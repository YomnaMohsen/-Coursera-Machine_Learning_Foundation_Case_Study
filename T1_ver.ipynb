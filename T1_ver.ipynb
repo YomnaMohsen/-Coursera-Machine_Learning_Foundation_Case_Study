{
 "cells": [
  {
   "cell_type": "code",
   "execution_count": 2,
   "metadata": {},
   "outputs": [],
   "source": [
    "import pandas as pd\n",
    "import numpy as np\n",
    "import matplotlib.pyplot as plt\n",
    "from sklearn import linear_model\n",
    "from sklearn.model_selection import train_test_split\n",
    "from sklearn.metrics import mean_squared_error\n",
    "from sklearn.metrics import max_error"
   ]
  },
  {
   "cell_type": "code",
   "execution_count": 3,
   "metadata": {},
   "outputs": [],
   "source": [
    "df=pd.read_csv(\"home_data.csv\")"
   ]
  },
  {
   "cell_type": "code",
   "execution_count": 4,
   "metadata": {},
   "outputs": [
    {
     "data": {
      "text/plain": [
       "RangeIndex(start=0, stop=21613, step=1)"
      ]
     },
     "execution_count": 4,
     "metadata": {},
     "output_type": "execute_result"
    }
   ],
   "source": [
    "df.index"
   ]
  },
  {
   "cell_type": "code",
   "execution_count": 5,
   "metadata": {},
   "outputs": [
    {
     "name": "stdout",
     "output_type": "stream",
     "text": [
      "21613\n"
     ]
    }
   ],
   "source": [
    "print(len(df.index)) "
   ]
  },
  {
   "cell_type": "code",
   "execution_count": 6,
   "metadata": {},
   "outputs": [
    {
     "data": {
      "text/html": [
       "<div>\n",
       "<style scoped>\n",
       "    .dataframe tbody tr th:only-of-type {\n",
       "        vertical-align: middle;\n",
       "    }\n",
       "\n",
       "    .dataframe tbody tr th {\n",
       "        vertical-align: top;\n",
       "    }\n",
       "\n",
       "    .dataframe thead th {\n",
       "        text-align: right;\n",
       "    }\n",
       "</style>\n",
       "<table border=\"1\" class=\"dataframe\">\n",
       "  <thead>\n",
       "    <tr style=\"text-align: right;\">\n",
       "      <th></th>\n",
       "      <th>id</th>\n",
       "      <th>date</th>\n",
       "      <th>price</th>\n",
       "      <th>bedrooms</th>\n",
       "      <th>bathrooms</th>\n",
       "      <th>sqft_living</th>\n",
       "      <th>sqft_lot</th>\n",
       "      <th>floors</th>\n",
       "      <th>waterfront</th>\n",
       "      <th>view</th>\n",
       "      <th>...</th>\n",
       "      <th>grade</th>\n",
       "      <th>sqft_above</th>\n",
       "      <th>sqft_basement</th>\n",
       "      <th>yr_built</th>\n",
       "      <th>yr_renovated</th>\n",
       "      <th>zipcode</th>\n",
       "      <th>lat</th>\n",
       "      <th>long</th>\n",
       "      <th>sqft_living15</th>\n",
       "      <th>sqft_lot15</th>\n",
       "    </tr>\n",
       "  </thead>\n",
       "  <tbody>\n",
       "    <tr>\n",
       "      <th>0</th>\n",
       "      <td>7129300520</td>\n",
       "      <td>20141013T000000</td>\n",
       "      <td>221900</td>\n",
       "      <td>3</td>\n",
       "      <td>1.00</td>\n",
       "      <td>1180</td>\n",
       "      <td>5650</td>\n",
       "      <td>1.0</td>\n",
       "      <td>0</td>\n",
       "      <td>0</td>\n",
       "      <td>...</td>\n",
       "      <td>7</td>\n",
       "      <td>1180</td>\n",
       "      <td>0</td>\n",
       "      <td>1955</td>\n",
       "      <td>0</td>\n",
       "      <td>98178</td>\n",
       "      <td>47.5112</td>\n",
       "      <td>-122.257</td>\n",
       "      <td>1340</td>\n",
       "      <td>5650</td>\n",
       "    </tr>\n",
       "    <tr>\n",
       "      <th>1</th>\n",
       "      <td>6414100192</td>\n",
       "      <td>20141209T000000</td>\n",
       "      <td>538000</td>\n",
       "      <td>3</td>\n",
       "      <td>2.25</td>\n",
       "      <td>2570</td>\n",
       "      <td>7242</td>\n",
       "      <td>2.0</td>\n",
       "      <td>0</td>\n",
       "      <td>0</td>\n",
       "      <td>...</td>\n",
       "      <td>7</td>\n",
       "      <td>2170</td>\n",
       "      <td>400</td>\n",
       "      <td>1951</td>\n",
       "      <td>1991</td>\n",
       "      <td>98125</td>\n",
       "      <td>47.7210</td>\n",
       "      <td>-122.319</td>\n",
       "      <td>1690</td>\n",
       "      <td>7639</td>\n",
       "    </tr>\n",
       "    <tr>\n",
       "      <th>2</th>\n",
       "      <td>5631500400</td>\n",
       "      <td>20150225T000000</td>\n",
       "      <td>180000</td>\n",
       "      <td>2</td>\n",
       "      <td>1.00</td>\n",
       "      <td>770</td>\n",
       "      <td>10000</td>\n",
       "      <td>1.0</td>\n",
       "      <td>0</td>\n",
       "      <td>0</td>\n",
       "      <td>...</td>\n",
       "      <td>6</td>\n",
       "      <td>770</td>\n",
       "      <td>0</td>\n",
       "      <td>1933</td>\n",
       "      <td>0</td>\n",
       "      <td>98028</td>\n",
       "      <td>47.7379</td>\n",
       "      <td>-122.233</td>\n",
       "      <td>2720</td>\n",
       "      <td>8062</td>\n",
       "    </tr>\n",
       "    <tr>\n",
       "      <th>3</th>\n",
       "      <td>2487200875</td>\n",
       "      <td>20141209T000000</td>\n",
       "      <td>604000</td>\n",
       "      <td>4</td>\n",
       "      <td>3.00</td>\n",
       "      <td>1960</td>\n",
       "      <td>5000</td>\n",
       "      <td>1.0</td>\n",
       "      <td>0</td>\n",
       "      <td>0</td>\n",
       "      <td>...</td>\n",
       "      <td>7</td>\n",
       "      <td>1050</td>\n",
       "      <td>910</td>\n",
       "      <td>1965</td>\n",
       "      <td>0</td>\n",
       "      <td>98136</td>\n",
       "      <td>47.5208</td>\n",
       "      <td>-122.393</td>\n",
       "      <td>1360</td>\n",
       "      <td>5000</td>\n",
       "    </tr>\n",
       "    <tr>\n",
       "      <th>4</th>\n",
       "      <td>1954400510</td>\n",
       "      <td>20150218T000000</td>\n",
       "      <td>510000</td>\n",
       "      <td>3</td>\n",
       "      <td>2.00</td>\n",
       "      <td>1680</td>\n",
       "      <td>8080</td>\n",
       "      <td>1.0</td>\n",
       "      <td>0</td>\n",
       "      <td>0</td>\n",
       "      <td>...</td>\n",
       "      <td>8</td>\n",
       "      <td>1680</td>\n",
       "      <td>0</td>\n",
       "      <td>1987</td>\n",
       "      <td>0</td>\n",
       "      <td>98074</td>\n",
       "      <td>47.6168</td>\n",
       "      <td>-122.045</td>\n",
       "      <td>1800</td>\n",
       "      <td>7503</td>\n",
       "    </tr>\n",
       "  </tbody>\n",
       "</table>\n",
       "<p>5 rows × 21 columns</p>\n",
       "</div>"
      ],
      "text/plain": [
       "           id             date   price  bedrooms  bathrooms  sqft_living  \\\n",
       "0  7129300520  20141013T000000  221900         3       1.00         1180   \n",
       "1  6414100192  20141209T000000  538000         3       2.25         2570   \n",
       "2  5631500400  20150225T000000  180000         2       1.00          770   \n",
       "3  2487200875  20141209T000000  604000         4       3.00         1960   \n",
       "4  1954400510  20150218T000000  510000         3       2.00         1680   \n",
       "\n",
       "   sqft_lot  floors  waterfront  view  ...  grade  sqft_above  sqft_basement  \\\n",
       "0      5650     1.0           0     0  ...      7        1180              0   \n",
       "1      7242     2.0           0     0  ...      7        2170            400   \n",
       "2     10000     1.0           0     0  ...      6         770              0   \n",
       "3      5000     1.0           0     0  ...      7        1050            910   \n",
       "4      8080     1.0           0     0  ...      8        1680              0   \n",
       "\n",
       "   yr_built  yr_renovated  zipcode      lat     long  sqft_living15  \\\n",
       "0      1955             0    98178  47.5112 -122.257           1340   \n",
       "1      1951          1991    98125  47.7210 -122.319           1690   \n",
       "2      1933             0    98028  47.7379 -122.233           2720   \n",
       "3      1965             0    98136  47.5208 -122.393           1360   \n",
       "4      1987             0    98074  47.6168 -122.045           1800   \n",
       "\n",
       "   sqft_lot15  \n",
       "0        5650  \n",
       "1        7639  \n",
       "2        8062  \n",
       "3        5000  \n",
       "4        7503  \n",
       "\n",
       "[5 rows x 21 columns]"
      ]
     },
     "execution_count": 6,
     "metadata": {},
     "output_type": "execute_result"
    }
   ],
   "source": [
    "df.head()"
   ]
  },
  {
   "cell_type": "code",
   "execution_count": 7,
   "metadata": {},
   "outputs": [
    {
     "data": {
      "text/html": [
       "<div>\n",
       "<style scoped>\n",
       "    .dataframe tbody tr th:only-of-type {\n",
       "        vertical-align: middle;\n",
       "    }\n",
       "\n",
       "    .dataframe tbody tr th {\n",
       "        vertical-align: top;\n",
       "    }\n",
       "\n",
       "    .dataframe thead th {\n",
       "        text-align: right;\n",
       "    }\n",
       "</style>\n",
       "<table border=\"1\" class=\"dataframe\">\n",
       "  <thead>\n",
       "    <tr style=\"text-align: right;\">\n",
       "      <th></th>\n",
       "      <th>id</th>\n",
       "      <th>price</th>\n",
       "      <th>bedrooms</th>\n",
       "      <th>bathrooms</th>\n",
       "      <th>sqft_living</th>\n",
       "      <th>sqft_lot</th>\n",
       "      <th>floors</th>\n",
       "      <th>waterfront</th>\n",
       "      <th>view</th>\n",
       "      <th>condition</th>\n",
       "      <th>grade</th>\n",
       "      <th>sqft_above</th>\n",
       "      <th>sqft_basement</th>\n",
       "      <th>yr_built</th>\n",
       "      <th>yr_renovated</th>\n",
       "      <th>zipcode</th>\n",
       "      <th>lat</th>\n",
       "      <th>long</th>\n",
       "      <th>sqft_living15</th>\n",
       "      <th>sqft_lot15</th>\n",
       "    </tr>\n",
       "  </thead>\n",
       "  <tbody>\n",
       "    <tr>\n",
       "      <th>count</th>\n",
       "      <td>2.161300e+04</td>\n",
       "      <td>2.161300e+04</td>\n",
       "      <td>21613.000000</td>\n",
       "      <td>21613.000000</td>\n",
       "      <td>21613.000000</td>\n",
       "      <td>2.161300e+04</td>\n",
       "      <td>21613.000000</td>\n",
       "      <td>21613.000000</td>\n",
       "      <td>21613.000000</td>\n",
       "      <td>21613.000000</td>\n",
       "      <td>21613.000000</td>\n",
       "      <td>21613.000000</td>\n",
       "      <td>21613.000000</td>\n",
       "      <td>21613.000000</td>\n",
       "      <td>21613.000000</td>\n",
       "      <td>21613.000000</td>\n",
       "      <td>21613.000000</td>\n",
       "      <td>21613.000000</td>\n",
       "      <td>21613.000000</td>\n",
       "      <td>21613.000000</td>\n",
       "    </tr>\n",
       "    <tr>\n",
       "      <th>mean</th>\n",
       "      <td>4.580302e+09</td>\n",
       "      <td>5.400881e+05</td>\n",
       "      <td>3.370842</td>\n",
       "      <td>2.114757</td>\n",
       "      <td>2079.899736</td>\n",
       "      <td>1.510697e+04</td>\n",
       "      <td>1.494309</td>\n",
       "      <td>0.007542</td>\n",
       "      <td>0.234303</td>\n",
       "      <td>3.409430</td>\n",
       "      <td>7.656873</td>\n",
       "      <td>1788.390691</td>\n",
       "      <td>291.509045</td>\n",
       "      <td>1971.005136</td>\n",
       "      <td>84.402258</td>\n",
       "      <td>98077.939805</td>\n",
       "      <td>47.560053</td>\n",
       "      <td>-122.213896</td>\n",
       "      <td>1986.552492</td>\n",
       "      <td>12768.455652</td>\n",
       "    </tr>\n",
       "    <tr>\n",
       "      <th>std</th>\n",
       "      <td>2.876566e+09</td>\n",
       "      <td>3.671272e+05</td>\n",
       "      <td>0.930062</td>\n",
       "      <td>0.770163</td>\n",
       "      <td>918.440897</td>\n",
       "      <td>4.142051e+04</td>\n",
       "      <td>0.539989</td>\n",
       "      <td>0.086517</td>\n",
       "      <td>0.766318</td>\n",
       "      <td>0.650743</td>\n",
       "      <td>1.175459</td>\n",
       "      <td>828.090978</td>\n",
       "      <td>442.575043</td>\n",
       "      <td>29.373411</td>\n",
       "      <td>401.679240</td>\n",
       "      <td>53.505026</td>\n",
       "      <td>0.138564</td>\n",
       "      <td>0.140828</td>\n",
       "      <td>685.391304</td>\n",
       "      <td>27304.179631</td>\n",
       "    </tr>\n",
       "    <tr>\n",
       "      <th>min</th>\n",
       "      <td>1.000102e+06</td>\n",
       "      <td>7.500000e+04</td>\n",
       "      <td>0.000000</td>\n",
       "      <td>0.000000</td>\n",
       "      <td>290.000000</td>\n",
       "      <td>5.200000e+02</td>\n",
       "      <td>1.000000</td>\n",
       "      <td>0.000000</td>\n",
       "      <td>0.000000</td>\n",
       "      <td>1.000000</td>\n",
       "      <td>1.000000</td>\n",
       "      <td>290.000000</td>\n",
       "      <td>0.000000</td>\n",
       "      <td>1900.000000</td>\n",
       "      <td>0.000000</td>\n",
       "      <td>98001.000000</td>\n",
       "      <td>47.155900</td>\n",
       "      <td>-122.519000</td>\n",
       "      <td>399.000000</td>\n",
       "      <td>651.000000</td>\n",
       "    </tr>\n",
       "    <tr>\n",
       "      <th>25%</th>\n",
       "      <td>2.123049e+09</td>\n",
       "      <td>3.219500e+05</td>\n",
       "      <td>3.000000</td>\n",
       "      <td>1.750000</td>\n",
       "      <td>1427.000000</td>\n",
       "      <td>5.040000e+03</td>\n",
       "      <td>1.000000</td>\n",
       "      <td>0.000000</td>\n",
       "      <td>0.000000</td>\n",
       "      <td>3.000000</td>\n",
       "      <td>7.000000</td>\n",
       "      <td>1190.000000</td>\n",
       "      <td>0.000000</td>\n",
       "      <td>1951.000000</td>\n",
       "      <td>0.000000</td>\n",
       "      <td>98033.000000</td>\n",
       "      <td>47.471000</td>\n",
       "      <td>-122.328000</td>\n",
       "      <td>1490.000000</td>\n",
       "      <td>5100.000000</td>\n",
       "    </tr>\n",
       "    <tr>\n",
       "      <th>50%</th>\n",
       "      <td>3.904930e+09</td>\n",
       "      <td>4.500000e+05</td>\n",
       "      <td>3.000000</td>\n",
       "      <td>2.250000</td>\n",
       "      <td>1910.000000</td>\n",
       "      <td>7.618000e+03</td>\n",
       "      <td>1.500000</td>\n",
       "      <td>0.000000</td>\n",
       "      <td>0.000000</td>\n",
       "      <td>3.000000</td>\n",
       "      <td>7.000000</td>\n",
       "      <td>1560.000000</td>\n",
       "      <td>0.000000</td>\n",
       "      <td>1975.000000</td>\n",
       "      <td>0.000000</td>\n",
       "      <td>98065.000000</td>\n",
       "      <td>47.571800</td>\n",
       "      <td>-122.230000</td>\n",
       "      <td>1840.000000</td>\n",
       "      <td>7620.000000</td>\n",
       "    </tr>\n",
       "    <tr>\n",
       "      <th>75%</th>\n",
       "      <td>7.308900e+09</td>\n",
       "      <td>6.450000e+05</td>\n",
       "      <td>4.000000</td>\n",
       "      <td>2.500000</td>\n",
       "      <td>2550.000000</td>\n",
       "      <td>1.068800e+04</td>\n",
       "      <td>2.000000</td>\n",
       "      <td>0.000000</td>\n",
       "      <td>0.000000</td>\n",
       "      <td>4.000000</td>\n",
       "      <td>8.000000</td>\n",
       "      <td>2210.000000</td>\n",
       "      <td>560.000000</td>\n",
       "      <td>1997.000000</td>\n",
       "      <td>0.000000</td>\n",
       "      <td>98118.000000</td>\n",
       "      <td>47.678000</td>\n",
       "      <td>-122.125000</td>\n",
       "      <td>2360.000000</td>\n",
       "      <td>10083.000000</td>\n",
       "    </tr>\n",
       "    <tr>\n",
       "      <th>max</th>\n",
       "      <td>9.900000e+09</td>\n",
       "      <td>7.700000e+06</td>\n",
       "      <td>33.000000</td>\n",
       "      <td>8.000000</td>\n",
       "      <td>13540.000000</td>\n",
       "      <td>1.651359e+06</td>\n",
       "      <td>3.500000</td>\n",
       "      <td>1.000000</td>\n",
       "      <td>4.000000</td>\n",
       "      <td>5.000000</td>\n",
       "      <td>13.000000</td>\n",
       "      <td>9410.000000</td>\n",
       "      <td>4820.000000</td>\n",
       "      <td>2015.000000</td>\n",
       "      <td>2015.000000</td>\n",
       "      <td>98199.000000</td>\n",
       "      <td>47.777600</td>\n",
       "      <td>-121.315000</td>\n",
       "      <td>6210.000000</td>\n",
       "      <td>871200.000000</td>\n",
       "    </tr>\n",
       "  </tbody>\n",
       "</table>\n",
       "</div>"
      ],
      "text/plain": [
       "                 id         price      bedrooms     bathrooms   sqft_living  \\\n",
       "count  2.161300e+04  2.161300e+04  21613.000000  21613.000000  21613.000000   \n",
       "mean   4.580302e+09  5.400881e+05      3.370842      2.114757   2079.899736   \n",
       "std    2.876566e+09  3.671272e+05      0.930062      0.770163    918.440897   \n",
       "min    1.000102e+06  7.500000e+04      0.000000      0.000000    290.000000   \n",
       "25%    2.123049e+09  3.219500e+05      3.000000      1.750000   1427.000000   \n",
       "50%    3.904930e+09  4.500000e+05      3.000000      2.250000   1910.000000   \n",
       "75%    7.308900e+09  6.450000e+05      4.000000      2.500000   2550.000000   \n",
       "max    9.900000e+09  7.700000e+06     33.000000      8.000000  13540.000000   \n",
       "\n",
       "           sqft_lot        floors    waterfront          view     condition  \\\n",
       "count  2.161300e+04  21613.000000  21613.000000  21613.000000  21613.000000   \n",
       "mean   1.510697e+04      1.494309      0.007542      0.234303      3.409430   \n",
       "std    4.142051e+04      0.539989      0.086517      0.766318      0.650743   \n",
       "min    5.200000e+02      1.000000      0.000000      0.000000      1.000000   \n",
       "25%    5.040000e+03      1.000000      0.000000      0.000000      3.000000   \n",
       "50%    7.618000e+03      1.500000      0.000000      0.000000      3.000000   \n",
       "75%    1.068800e+04      2.000000      0.000000      0.000000      4.000000   \n",
       "max    1.651359e+06      3.500000      1.000000      4.000000      5.000000   \n",
       "\n",
       "              grade    sqft_above  sqft_basement      yr_built  yr_renovated  \\\n",
       "count  21613.000000  21613.000000   21613.000000  21613.000000  21613.000000   \n",
       "mean       7.656873   1788.390691     291.509045   1971.005136     84.402258   \n",
       "std        1.175459    828.090978     442.575043     29.373411    401.679240   \n",
       "min        1.000000    290.000000       0.000000   1900.000000      0.000000   \n",
       "25%        7.000000   1190.000000       0.000000   1951.000000      0.000000   \n",
       "50%        7.000000   1560.000000       0.000000   1975.000000      0.000000   \n",
       "75%        8.000000   2210.000000     560.000000   1997.000000      0.000000   \n",
       "max       13.000000   9410.000000    4820.000000   2015.000000   2015.000000   \n",
       "\n",
       "            zipcode           lat          long  sqft_living15     sqft_lot15  \n",
       "count  21613.000000  21613.000000  21613.000000   21613.000000   21613.000000  \n",
       "mean   98077.939805     47.560053   -122.213896    1986.552492   12768.455652  \n",
       "std       53.505026      0.138564      0.140828     685.391304   27304.179631  \n",
       "min    98001.000000     47.155900   -122.519000     399.000000     651.000000  \n",
       "25%    98033.000000     47.471000   -122.328000    1490.000000    5100.000000  \n",
       "50%    98065.000000     47.571800   -122.230000    1840.000000    7620.000000  \n",
       "75%    98118.000000     47.678000   -122.125000    2360.000000   10083.000000  \n",
       "max    98199.000000     47.777600   -121.315000    6210.000000  871200.000000  "
      ]
     },
     "execution_count": 7,
     "metadata": {},
     "output_type": "execute_result"
    }
   ],
   "source": [
    "df.describe()"
   ]
  },
  {
   "cell_type": "code",
   "execution_count": 8,
   "metadata": {},
   "outputs": [],
   "source": [
    "train, test=train_test_split(df, test_size=0.2, random_state=0, shuffle=False)"
   ]
  },
  {
   "cell_type": "code",
   "execution_count": 9,
   "metadata": {},
   "outputs": [],
   "source": [
    "#Predictors=(train.iloc[:,1:])  (github)"
   ]
  },
  {
   "cell_type": "code",
   "execution_count": 10,
   "metadata": {},
   "outputs": [],
   "source": [
    "#Test_Predictors = test.iloc[:,1:]  (github)"
   ]
  },
  {
   "cell_type": "code",
   "execution_count": 11,
   "metadata": {},
   "outputs": [],
   "source": [
    "reg=linear_model.LinearRegression()"
   ]
  },
  {
   "cell_type": "code",
   "execution_count": 12,
   "metadata": {},
   "outputs": [],
   "source": [
    "reg_f=linear_model.LinearRegression()"
   ]
  },
  {
   "cell_type": "code",
   "execution_count": 13,
   "metadata": {},
   "outputs": [],
   "source": [
    "features=['bedrooms','bathrooms','sqft_living','sqft_lot','floors','zipcode']"
   ]
  },
  {
   "cell_type": "code",
   "execution_count": 14,
   "metadata": {},
   "outputs": [
    {
     "data": {
      "text/plain": [
       "LinearRegression()"
      ]
     },
     "execution_count": 14,
     "metadata": {},
     "output_type": "execute_result"
    }
   ],
   "source": [
    "reg.fit(train[['sqft_living']],train.price)"
   ]
  },
  {
   "cell_type": "code",
   "execution_count": 415,
   "metadata": {},
   "outputs": [
    {
     "data": {
      "text/plain": [
       "LinearRegression()"
      ]
     },
     "execution_count": 415,
     "metadata": {},
     "output_type": "execute_result"
    }
   ],
   "source": [
    "reg_f.fit(train[features],train.price)"
   ]
  },
  {
   "cell_type": "code",
   "execution_count": 15,
   "metadata": {},
   "outputs": [],
   "source": [
    "y_pred=reg.predict(test[['sqft_living']])"
   ]
  },
  {
   "cell_type": "code",
   "execution_count": 16,
   "metadata": {},
   "outputs": [
    {
     "name": "stdout",
     "output_type": "stream",
     "text": [
      "-49860.76908854919 [283.88422456]\n"
     ]
    }
   ],
   "source": [
    "print(reg.intercept_,reg.coef_)"
   ]
  },
  {
   "cell_type": "code",
   "execution_count": 417,
   "metadata": {},
   "outputs": [],
   "source": [
    "yf_pred=reg_f.predict(test[features])"
   ]
  },
  {
   "cell_type": "code",
   "execution_count": 418,
   "metadata": {},
   "outputs": [
    {
     "data": {
      "text/plain": [
       "264006.8026917107"
      ]
     },
     "execution_count": 418,
     "metadata": {},
     "output_type": "execute_result"
    }
   ],
   "source": [
    "np.sqrt(mean_squared_error(test[['price']],y_pred))"
   ]
  },
  {
   "cell_type": "code",
   "execution_count": 419,
   "metadata": {},
   "outputs": [
    {
     "data": {
      "text/plain": [
       "2285658.6917437306"
      ]
     },
     "execution_count": 419,
     "metadata": {},
     "output_type": "execute_result"
    }
   ],
   "source": [
    "max_error(test[['price']],y_pred)"
   ]
  },
  {
   "cell_type": "code",
   "execution_count": 420,
   "metadata": {},
   "outputs": [
    {
     "data": {
      "text/plain": [
       "2282231.8439827263"
      ]
     },
     "execution_count": 420,
     "metadata": {},
     "output_type": "execute_result"
    }
   ],
   "source": [
    "max_error(test[['price']],yf_pred)"
   ]
  },
  {
   "cell_type": "code",
   "execution_count": 421,
   "metadata": {},
   "outputs": [
    {
     "data": {
      "text/plain": [
       "256202.95937029866"
      ]
     },
     "execution_count": 421,
     "metadata": {},
     "output_type": "execute_result"
    }
   ],
   "source": [
    "np.sqrt(mean_squared_error(test[['price']],yf_pred))"
   ]
  },
  {
   "cell_type": "code",
   "execution_count": 422,
   "metadata": {},
   "outputs": [
    {
     "data": {
      "text/plain": [
       "[<matplotlib.lines.Line2D at 0x240350b8700>,\n",
       " <matplotlib.lines.Line2D at 0x240350b88b0>]"
      ]
     },
     "execution_count": 422,
     "metadata": {},
     "output_type": "execute_result"
    },
    {
     "data": {
      "image/png": "[encoded data removed]",
      "text/plain": [
       "<Figure size 432x288 with 1 Axes>"
      ]
     },
     "metadata": {
      "needs_background": "light"
     },
     "output_type": "display_data"
    }
   ],
   "source": [
    "plt.plot(test[['sqft_living']],test[['price']],\".\",test[['sqft_living']],y_pred,\"-\")"
   ]
  },
  {
   "cell_type": "code",
   "execution_count": 423,
   "metadata": {},
   "outputs": [
    {
     "data": {
      "text/plain": [
       "3     9824\n",
       "4     6882\n",
       "2     2760\n",
       "5     1601\n",
       "6      272\n",
       "1      199\n",
       "7       38\n",
       "8       13\n",
       "0       13\n",
       "9        6\n",
       "10       3\n",
       "11       1\n",
       "33       1\n",
       "Name: bedrooms, dtype: int64"
      ]
     },
     "execution_count": 423,
     "metadata": {},
     "output_type": "execute_result"
    }
   ],
   "source": [
    "df['bedrooms'].value_counts()"
   ]
  },
  {
   "cell_type": "code",
   "execution_count": 424,
   "metadata": {},
   "outputs": [],
   "source": [
    "#df['bedrooms'].value_counts().index.tolist()# return in form of list"
   ]
  },
  {
   "cell_type": "code",
   "execution_count": 425,
   "metadata": {},
   "outputs": [],
   "source": [
    "h1=df[df['zipcode']==98039]"
   ]
  },
  {
   "cell_type": "code",
   "execution_count": 426,
   "metadata": {},
   "outputs": [
    {
     "name": "stdout",
     "output_type": "stream",
     "text": [
      "               id             date    price  bedrooms  bathrooms  sqft_living  \\\n",
      "2974   3625049014  20140829T000000  2950000         4       3.50         4860   \n",
      "3761   2540700110  20150212T000000  1905000         4       3.50         4210   \n",
      "4077   3262300940  20141107T000000   875000         3       1.00         1220   \n",
      "4078   3262300940  20150210T000000   940000         3       1.00         1220   \n",
      "4149   6447300265  20141014T000000  4000000         4       5.50         7080   \n",
      "4411   2470100110  20140804T000000  5570000         5       5.75         9200   \n",
      "4791   2210500019  20150324T000000   937500         3       1.00         1320   \n",
      "5178   6447300345  20150406T000000  1160000         4       3.00         2680   \n",
      "5589   6447300225  20141106T000000  1880000         3       2.75         2620   \n",
      "5880   2525049148  20141007T000000  3418800         5       5.00         5450   \n",
      "6868   3262300235  20141126T000000  1555000         5       2.50         2870   \n",
      "7501   2525049133  20150402T000000  1398000         5       2.25         2640   \n",
      "8241   3262301355  20140725T000000  1320000         3       2.75         2680   \n",
      "9254   9208900037  20140919T000000  6885000         6       7.75         9890   \n",
      "9694   3262301610  20141118T000000   865000         3       1.50         1530   \n",
      "9809   5426300060  20141008T000000  1000000         3       2.25         2300   \n",
      "11278  3025300226  20140515T000000  2100000         4       1.75         3550   \n",
      "11952  2260300060  20150410T000000  2575000         5       3.00         4780   \n",
      "12295  3738000070  20150309T000000  1712750         5       2.50         2660   \n",
      "12811  5425700150  20140804T000000   787500         4       1.75         1580   \n",
      "13235  3262300322  20150408T000000  1651000         4       3.25         3640   \n",
      "13267  5425700205  20140520T000000  1800000         4       3.50         4460   \n",
      "13419  2525049246  20141017T000000  1550000         2       2.25         2950   \n",
      "13621  2525049266  20140821T000000  1762000         3       2.25         3060   \n",
      "13988  5427110040  20140609T000000  1225000         4       2.50         2740   \n",
      "14052  7397300220  20140529T000000  2750000         4       3.25         4430   \n",
      "14254  2425049107  20150305T000000  1950000         4       3.75         4150   \n",
      "14385  2425049061  20140825T000000  2200000         3       2.00         3570   \n",
      "14803  3835502815  20140925T000000  1260000         3       2.50         3110   \n",
      "15022  2210500010  20140930T000000  2450000         7       4.25         4670   \n",
      "15255  2425049063  20140911T000000  3640900         4       3.25         4830   \n",
      "15632  3625049088  20140702T000000  2271150         4       3.25         4040   \n",
      "16268  3025300250  20150513T000000  1620000         4       2.25         2350   \n",
      "16302  7397300170  20140530T000000  3710000         4       3.50         5550   \n",
      "16377  3262300920  20150408T000000  1200000         4       3.00         2150   \n",
      "16825  3025300095  20141009T000000  2500000         4       4.50         4300   \n",
      "17001  2525049259  20140812T000000  2187730         4       4.50         4240   \n",
      "17209  3025300225  20141031T000000  1450000         5       2.75         3090   \n",
      "17230  2470200020  20140514T000000  1880000         4       2.75         3260   \n",
      "17899  3262300555  20140708T000000  2458000         4       5.25         6500   \n",
      "17930  3625049079  20140801T000000  1350000         3       2.00         2070   \n",
      "18793  2525049263  20140709T000000  2680000         5       3.00         4290   \n",
      "18892  5427100150  20140626T000000  1410000         4       2.25         3250   \n",
      "18912  2425049066  20140616T000000  1920000         4       2.50         3070   \n",
      "19148  3625049042  20141011T000000  3635000         5       6.00         5490   \n",
      "19236  2525049086  20141003T000000  2720000         4       3.25         3990   \n",
      "19351  2525049113  20140725T000000  1950000         4       3.50         4065   \n",
      "20096  3262300485  20150421T000000  2250000         5       5.25         3410   \n",
      "21040  6447300365  20141113T000000  2900000         5       4.00         5190   \n",
      "21514  3262300818  20150227T000000  1865000         4       3.75         3790   \n",
      "\n",
      "       sqft_lot  floors  waterfront  view  ...  grade  sqft_above  \\\n",
      "2974      23885     2.0           0     0  ...     12        4860   \n",
      "3761      18564     2.0           0     0  ...     11        4210   \n",
      "4077       8119     1.0           0     0  ...      7        1220   \n",
      "4078       8119     1.0           0     0  ...      7        1220   \n",
      "4149      16573     2.0           0     0  ...     12        5760   \n",
      "4411      35069     2.0           0     0  ...     13        6200   \n",
      "4791       8500     1.0           0     0  ...      7        1320   \n",
      "5178      15438     2.0           0     2  ...      8        2680   \n",
      "5589      17919     1.0           0     1  ...      9        2620   \n",
      "5880      20412     2.0           0     0  ...     11        5450   \n",
      "6868      16238     2.0           0     0  ...      8        2870   \n",
      "7501      14959     1.0           0     0  ...      7        1770   \n",
      "8241      20104     1.0           0     0  ...      9        1820   \n",
      "9254      31374     2.0           0     4  ...     13        8860   \n",
      "9694      10827     1.0           0     0  ...      8        1530   \n",
      "9809      15952     1.0           0     0  ...      8        1150   \n",
      "11278     19865     2.0           0     0  ...      9        3550   \n",
      "11952     20440     1.0           0     0  ...     10        3660   \n",
      "12295      6572     1.0           0     0  ...      9        1960   \n",
      "12811      9382     1.0           0     0  ...      7        1080   \n",
      "13235     13530     1.0           0     0  ...      9        2570   \n",
      "13267     16953     1.0           0     0  ...      9        2550   \n",
      "13419     15593     1.0           0     0  ...      8        1560   \n",
      "13621     16000     2.0           0     0  ...     10        3060   \n",
      "13988     16007     2.0           0     0  ...      9        2740   \n",
      "14052     21000     2.0           0     0  ...     10        4430   \n",
      "14254     17424     1.0           0     0  ...      9        3130   \n",
      "14385     30456     1.0           0     1  ...      8        2070   \n",
      "14803      9930     1.0           0     1  ...      8        1640   \n",
      "15022     23115     2.0           0     2  ...     11        4670   \n",
      "15255     22257     2.0           1     4  ...     11        4830   \n",
      "15632     18916     1.0           0     0  ...      9        4040   \n",
      "16268     17709     2.0           0     0  ...      9        2350   \n",
      "16302     28078     2.0           0     2  ...     12        3350   \n",
      "16377      8119     2.0           0     0  ...      8        2150   \n",
      "16825     19844     2.0           0     0  ...     11        4300   \n",
      "17001     13162     2.0           0     0  ...     10        4240   \n",
      "17209     19865     1.0           0     0  ...      9        3090   \n",
      "17230     19542     1.0           0     0  ...     10        2170   \n",
      "17899     14986     2.0           0     0  ...     11        5180   \n",
      "17930      9600     1.0           0     1  ...      7        1590   \n",
      "18793     20445     2.0           0     0  ...     11        4290   \n",
      "18892     16684     2.0           0     0  ...      9        3250   \n",
      "18912     34412     1.0           0     3  ...      9        2070   \n",
      "19148     19897     2.0           0     0  ...     12        5490   \n",
      "19236     18115     2.0           0     0  ...     11        3990   \n",
      "19351     18713     2.0           0     0  ...     10        4065   \n",
      "20096      8118     2.0           0     0  ...     11        3410   \n",
      "21040     14600     2.0           0     1  ...     11        5190   \n",
      "21514      8797     2.0           0     0  ...     11        3290   \n",
      "\n",
      "       sqft_basement  yr_built  yr_renovated  zipcode      lat     long  \\\n",
      "2974               0      1996             0    98039  47.6172 -122.230   \n",
      "3761               0      2001             0    98039  47.6206 -122.225   \n",
      "4077               0      1955             0    98039  47.6328 -122.236   \n",
      "4078               0      1955             0    98039  47.6328 -122.236   \n",
      "4149            1320      2008             0    98039  47.6151 -122.224   \n",
      "4411            3000      2001             0    98039  47.6289 -122.233   \n",
      "4791               0      1954             0    98039  47.6187 -122.226   \n",
      "5178               0      1902          1956    98039  47.6109 -122.226   \n",
      "5589               0      1949             0    98039  47.6144 -122.228   \n",
      "5880               0      2014             0    98039  47.6209 -122.237   \n",
      "6868               0      1962             0    98039  47.6308 -122.238   \n",
      "7501             870      1929             0    98039  47.6191 -122.234   \n",
      "8241             860      1964             0    98039  47.6304 -122.234   \n",
      "9254            1030      2001             0    98039  47.6305 -122.240   \n",
      "9694               0      1955             0    98039  47.6354 -122.234   \n",
      "9809            1150      1963             0    98039  47.6322 -122.232   \n",
      "11278              0      1962          2002    98039  47.6236 -122.235   \n",
      "11952           1120      1975             0    98039  47.6242 -122.239   \n",
      "12295            700      1959             0    98039  47.6176 -122.223   \n",
      "12811            500      1963             0    98039  47.6353 -122.232   \n",
      "13235           1070      1924          2000    98039  47.6293 -122.238   \n",
      "13267           1910      1962          1994    98039  47.6338 -122.232   \n",
      "13419           1390      1942          1986    98039  47.6209 -122.236   \n",
      "13621              0      1988             0    98039  47.6189 -122.230   \n",
      "13988              0      1984             0    98039  47.6353 -122.229   \n",
      "14052              0      1952          2007    98039  47.6398 -122.237   \n",
      "14254           1020      1963          2000    98039  47.6390 -122.236   \n",
      "14385           1500      1946          1982    98039  47.6413 -122.240   \n",
      "14803           1470      1954             0    98039  47.6112 -122.226   \n",
      "15022              0      1992             0    98039  47.6183 -122.227   \n",
      "15255              0      1990             0    98039  47.6409 -122.241   \n",
      "15632              0      1954             0    98039  47.6155 -122.238   \n",
      "16268              0      1977             0    98039  47.6232 -122.236   \n",
      "16302           2200      2000             0    98039  47.6395 -122.234   \n",
      "16377              0      1953          2004    98039  47.6335 -122.236   \n",
      "16825              0      1985          1999    98039  47.6218 -122.237   \n",
      "17001              0      2004             0    98039  47.6193 -122.229   \n",
      "17209              0      1953             0    98039  47.6232 -122.235   \n",
      "17230           1090      1968             0    98039  47.6245 -122.236   \n",
      "17899           1320      2001             0    98039  47.6304 -122.236   \n",
      "17930            480      1946             0    98039  47.6160 -122.239   \n",
      "18793              0      1985             0    98039  47.6217 -122.239   \n",
      "18892              0      1979             0    98039  47.6334 -122.229   \n",
      "18912           1000      1950             0    98039  47.6400 -122.240   \n",
      "19148              0      2005             0    98039  47.6165 -122.236   \n",
      "19236              0      1989             0    98039  47.6177 -122.229   \n",
      "19351              0      1987             0    98039  47.6209 -122.237   \n",
      "20096              0      2006             0    98039  47.6295 -122.236   \n",
      "21040              0      2013             0    98039  47.6102 -122.225   \n",
      "21514            500      2006             0    98039  47.6351 -122.236   \n",
      "\n",
      "       sqft_living15  sqft_lot15  \n",
      "2974            3580       16054  \n",
      "3761            3520       18564  \n",
      "4077            1910        8119  \n",
      "4078            1910        8119  \n",
      "4149            3140       15996  \n",
      "4411            3560       24345  \n",
      "4791            2790       10800  \n",
      "5178            4480       14406  \n",
      "5589            3400       14400  \n",
      "5880            3160       17825  \n",
      "6868            2870       16238  \n",
      "7501            3240       17904  \n",
      "8241            3060       19837  \n",
      "9254            4540       42730  \n",
      "9694            2050       10827  \n",
      "9809            2200       14284  \n",
      "11278           3000       19862  \n",
      "11952           4660       20440  \n",
      "12295           3960       14595  \n",
      "12811           2010        9382  \n",
      "13235           2760       15000  \n",
      "13267           1980       13370  \n",
      "13419           2060       19855  \n",
      "13621           3510       13162  \n",
      "13988           2760       16008  \n",
      "14052           3930       20000  \n",
      "14254           3930       21420  \n",
      "14385           3570       27418  \n",
      "14803           3650       14399  \n",
      "15022           3240       13912  \n",
      "15255           3820       25582  \n",
      "15632           3000       18831  \n",
      "16268           3360       19855  \n",
      "16302           2980       19602  \n",
      "16377           1590        8119  \n",
      "16825           3070       19845  \n",
      "17001           3010       12163  \n",
      "17209           2970       19862  \n",
      "17230           3480       19863  \n",
      "17899           2270        8119  \n",
      "17930           3000       16215  \n",
      "18793           3620       22325  \n",
      "18892           2890       16927  \n",
      "18912           3780       27940  \n",
      "19148           2910       17600  \n",
      "19236           3450       16087  \n",
      "19351           3070       18713  \n",
      "20096           3410       16236  \n",
      "21040           3840       19250  \n",
      "21514           2660       12150  \n",
      "\n",
      "[50 rows x 21 columns]\n"
     ]
    }
   ],
   "source": [
    "print(h1)\n"
   ]
  },
  {
   "cell_type": "code",
   "execution_count": null,
   "metadata": {},
   "outputs": [],
   "source": []
  },
  {
   "cell_type": "code",
   "execution_count": 427,
   "metadata": {},
   "outputs": [
    {
     "data": {
      "text/plain": [
       "2160606.6"
      ]
     },
     "execution_count": 427,
     "metadata": {},
     "output_type": "execute_result"
    }
   ],
   "source": [
    "h1.price.mean()"
   ]
  },
  {
   "cell_type": "code",
   "execution_count": 428,
   "metadata": {},
   "outputs": [],
   "source": [
    "newdf=df[(df.sqft_living > 2000) & (df.sqft_living < 4000)]"
   ]
  },
  {
   "cell_type": "code",
   "execution_count": 429,
   "metadata": {},
   "outputs": [
    {
     "name": "stdout",
     "output_type": "stream",
     "text": [
      "9111\n"
     ]
    }
   ],
   "source": [
    "print (len(newdf.index))"
   ]
  },
  {
   "cell_type": "code",
   "execution_count": 430,
   "metadata": {},
   "outputs": [],
   "source": [
    "advanced_features = [\n",
    "'bedrooms', 'bathrooms', 'sqft_living', 'sqft_lot', 'floors', 'zipcode',\n",
    "'condition', # condition of house\t\t\t\t\n",
    "'grade', # measure of quality of construction\t\t\t\t\n",
    "'waterfront', # waterfront property\t\t\t\t\n",
    "'view', # type of view\t\t\t\t\n",
    "'sqft_above', # square feet above ground\t\t\t\t\n",
    "'sqft_basement', # square feet in basement\t\t\t\t\n",
    "'yr_built', # the year built\t\t\t\t\n",
    "'yr_renovated', # the year renovated\t\t\t\t\n",
    "'lat', 'long', # the lat-long of the parcel\t\t\t\t\n",
    "'sqft_living15', # average sq.ft. of 15 nearest neighbors \t\t\t\t\n",
    "'sqft_lot15', # average lot size of 15 nearest neighbors \n",
    "]"
   ]
  },
  {
   "cell_type": "code",
   "execution_count": 431,
   "metadata": {},
   "outputs": [],
   "source": [
    "#del train['id'] github\n",
    "#del train['date']\n",
    "#del test['id']\n",
    "#del test['date']"
   ]
  },
  {
   "cell_type": "code",
   "execution_count": 432,
   "metadata": {},
   "outputs": [],
   "source": [
    "#Test_Predictors = test.loc[:,1:] github #Predictors = train.iloc[:,1:]"
   ]
  },
  {
   "cell_type": "code",
   "execution_count": 433,
   "metadata": {},
   "outputs": [],
   "source": [
    "train, test=train_test_split(df, test_size=0.2)"
   ]
  },
  {
   "cell_type": "code",
   "execution_count": 434,
   "metadata": {},
   "outputs": [],
   "source": [
    "reg_af=linear_model.LinearRegression()"
   ]
  },
  {
   "cell_type": "code",
   "execution_count": 435,
   "metadata": {},
   "outputs": [
    {
     "data": {
      "text/plain": [
       "LinearRegression()"
      ]
     },
     "execution_count": 435,
     "metadata": {},
     "output_type": "execute_result"
    }
   ],
   "source": [
    "reg_af.fit(train[advanced_features],train.price)"
   ]
  },
  {
   "cell_type": "code",
   "execution_count": 436,
   "metadata": {},
   "outputs": [],
   "source": [
    "#y2=reg_af.predict(Test_Predictors) github"
   ]
  },
  {
   "cell_type": "code",
   "execution_count": 437,
   "metadata": {},
   "outputs": [],
   "source": [
    "y_af=reg_af.predict(test[advanced_features])"
   ]
  },
  {
   "cell_type": "code",
   "execution_count": 438,
   "metadata": {},
   "outputs": [
    {
     "data": {
      "text/plain": [
       "211627.30675268045"
      ]
     },
     "execution_count": 438,
     "metadata": {},
     "output_type": "execute_result"
    }
   ],
   "source": [
    "np.sqrt(mean_squared_error(test['price'],y_af))"
   ]
  },
  {
   "cell_type": "code",
   "execution_count": null,
   "metadata": {},
   "outputs": [],
   "source": []
  },
  {
   "cell_type": "code",
   "execution_count": null,
   "metadata": {},
   "outputs": [],
   "source": []
  }
 ],
 "metadata": {
  "kernelspec": {
   "display_name": "Python 3",
   "language": "python",
   "name": "python3"
  },
  "language_info": {
   "codemirror_mode": {
    "name": "ipython",
    "version": 3
   },
   "file_extension": ".py",
   "mimetype": "text/x-python",
   "name": "python",
   "nbconvert_exporter": "python",
   "pygments_lexer": "ipython3",
   "version": "3.8.5"
  }
 },
 "nbformat": 4,
 "nbformat_minor": 4
}
